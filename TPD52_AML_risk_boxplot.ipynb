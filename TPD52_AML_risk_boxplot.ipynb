{
 "cells": [
  {
   "cell_type": "code",
   "execution_count": 1,
   "metadata": {},
   "outputs": [
    {
     "data": {
      "text/plain": [
       "array(['GEOquery', 'Biobase', 'BiocGenerics', 'parallel', 'tools',\n",
       "       'RevoUtils', 'stats', 'graphics', 'grDevices', 'utils', 'datasets',\n",
       "       'RevoUtilsMath', 'methods', 'base'], dtype='<U13')"
      ]
     },
     "execution_count": 1,
     "metadata": {},
     "output_type": "execute_result"
    }
   ],
   "source": [
    "import pandas as pd\n",
    "import numpy as np\n",
    "import seaborn as sns\n",
    "import matplotlib.pyplot as plt\n",
    "sns.set(font_scale=1.3)\n",
    "from statannot import add_stat_annotation\n",
    "from scipy.stats import chisquare\n",
    "from scipy import stats\n",
    "from scipy.stats import spearmanr\n",
    "\n",
    "import rpy2.rinterface\n",
    "#ipython extension\n",
    "%load_ext rpy2.ipython\n",
    "from rpy2.robjects import pandas2ri\n",
    "pandas2ri.activate()\n",
    "\n",
    "\n",
    "#seaborn Gr-Bk-Rd palette\n",
    "pal = sns.diverging_palette(127.7, 12.2, l=53.4, n=255, center=\"dark\")\n",
    "\n",
    "pd.set_option('display.max_columns', 500)\n",
    "\n",
    "%R library(GEOquery)"
   ]
  },
  {
   "cell_type": "code",
   "execution_count": 2,
   "metadata": {},
   "outputs": [
    {
     "name": "stderr",
     "output_type": "stream",
     "text": [
      "C:\\Users\\bioinfo205_01\\Anaconda3\\lib\\site-packages\\IPython\\core\\interactiveshell.py:3020: DtypeWarning: Columns (1,2,3,4,5,6,7,8,9,10,11,12,13,14,15,16,17,18,19,20,21,22,23,24,25,26,27,28,29,30,31,32,33,34,35,36,37,38,39,40,41,42,43,44,45,46,47,48,49,50,51,52,53,54,55,56,57,58,59,60,61,62,63,64,65,66,67,68,69,70,71,72,73,74,75,76,77,78,79,80,81,82,83,84,85,86,87,88,89,90,91,92,93,94,95,96,97,98,99,100,101,102,103,104,105,106,107,108,109,110,111,112,113,114,115,116,117,118,119,120,121,122,123,124,125,126,127,128,129,130,131,132,133,134,135,136,137,138,139,140,141,142,143,144,145,146,147,148,149,150,151,152,153,154,155,156,157,158,159,160,161,162,163,164,165,166,167,168,169,170,171,172,173,174,175,176,177,178,179,180,181,182,183,184,185,186,187,188,189,190,191,192,193,194,195,196,197,198,199,200,201,202,203,204,205,206,207,208,209,210,211,212,213,214,215,216,217,218,219,220,221,222,223,224,225,226,227,228,229,230,231,232,233,234,235,236,237,238,239,240,241,242,243,244,245,246,247,248,249,250,251,252,253,254,255,256,257,258,259,260,261,262,263,264,265,266,267,268,269,270,271,272,273,274,275,276,277,278,279,280,281,282,283,284,285,286,287,288,289,290,291,292,293,294,295,296,297,298,299,300,301,302,303,304,305,306,307,308,309,310,311,312,313,314,315,316,317,318,319,320,321,322,323,324,325,326,327,328,329,330,331,332,333,334,335,336,337,338,339,340,341,342,343,344,345,346,347,348,349,350,351,352,353,354,355,356,357,358,359,360,361,362,363,364,365,366,367,368,369,370,371,372,373,374,375,376,377,378,379,380,381,382,383,384,385,386,387,388,389,390,391,392,393,394,395,396,397,398,399,400,401,402,403,404,405,406,407,408,409,410,411,412,413,414,415,416,417,418,419,420,421,422,423,424,425,426,427,428,429,430,431,432,433,434,435,436,437,438,439,440,441,442,443,444,445,446,447,448,449,450,451,452) have mixed types. Specify dtype option on import or set low_memory=False.\n",
      "  interactivity=interactivity, compiler=compiler, result=result)\n",
      "C:\\Users\\bioinfo205_01\\Anaconda3\\lib\\site-packages\\IPython\\core\\interactiveshell.py:3020: DtypeWarning: Columns (60) have mixed types. Specify dtype option on import or set low_memory=False.\n",
      "  interactivity=interactivity, compiler=compiler, result=result)\n"
     ]
    }
   ],
   "source": [
    "table = pd.read_csv(\"./aml_ohsu_2018/data_clinical_sample.txt\", sep = '\\t', comment='#')\n",
    "\n",
    "#RNAseq_median\n",
    "rna = pd.read_csv('./aml_ohsu_2018/data_RNA_Seq_expression_median.txt', sep = '\\t', header=None)\n",
    "\n",
    "rna.index = rna.iloc[:,0]\n",
    "rna_t = rna.T[2:]\n",
    "\n",
    "#merge\n",
    "table = pd.merge(table, rna_t, left_on = 'SAMPLE_ID', right_on = 'Hugo_Symbol')\n",
    "\n",
    "table.to_csv('./clinical.csv')\n",
    "\n",
    "table = pd.read_csv('./clinical.csv', index_col=0)\n",
    "\n",
    "# #########################################non-paired sample\n",
    "# m = table['SAMPLE_TIMEPOINT'] == 'Denovo'\n",
    "# m2 = table['SAMPLE_TIMEPOINT'] == 'Relapse'\n",
    "\n",
    "# paired = pd.concat([table[m], table[m2]])\n",
    "# paired = paired.sort_values(by='SAMPLE_TIMEPOINT').reset_index()\n",
    "\n",
    "# paired['Relapse'] = paired['SAMPLE_TIMEPOINT'] == 'Relapse'\n",
    "\n",
    "# #data output\n",
    "# eset = paired.loc[:,'TSPAN6':'RP11-114I8.4']\n",
    "# pset = paired.loc[:, ['SAMPLE_TIMEPOINT', 'Relapse']]\n",
    "\n",
    "# #nomalize\n",
    "# eset2 = eset.apply(pd.to_numeric, errors='coerce')\n",
    "# #eset2 = eset2.apply(lambda x: np.log2(x)) \n",
    "\n",
    "# eset2.to_csv('./eset.csv')\n",
    "# pset.to_csv('./pset.csv')\n",
    "\n",
    "# m = pset['Relapse'] == True\n",
    "\n",
    "# tpd52_r = eset2[m]['TPD52']\n",
    "# tpd52_d = eset2[-m]['TPD52']\n",
    "\n",
    "# dia = pd.DataFrame([tpd52_d]).T\n",
    "# rel = pd.DataFrame([tpd52_r]).T\n",
    "\n",
    "# dia.to_csv('./dia.csv', index=False)\n",
    "# rel.to_csv('./rel.csv', index=False)"
   ]
  },
  {
   "cell_type": "code",
   "execution_count": 3,
   "metadata": {},
   "outputs": [
    {
     "name": "stderr",
     "output_type": "stream",
     "text": [
      "C:\\Users\\bioinfo205_01\\Anaconda3\\lib\\site-packages\\ipykernel_launcher.py:23: SettingWithCopyWarning: \n",
      "A value is trying to be set on a copy of a slice from a DataFrame.\n",
      "Try using .loc[row_indexer,col_indexer] = value instead\n",
      "\n",
      "See the caveats in the documentation: http://pandas.pydata.org/pandas-docs/stable/indexing.html#indexing-view-versus-copy\n",
      "C:\\Users\\bioinfo205_01\\Anaconda3\\lib\\site-packages\\ipykernel_launcher.py:24: SettingWithCopyWarning: \n",
      "A value is trying to be set on a copy of a slice from a DataFrame.\n",
      "Try using .loc[row_indexer,col_indexer] = value instead\n",
      "\n",
      "See the caveats in the documentation: http://pandas.pydata.org/pandas-docs/stable/indexing.html#indexing-view-versus-copy\n",
      "C:\\Users\\bioinfo205_01\\Anaconda3\\lib\\site-packages\\ipykernel_launcher.py:25: SettingWithCopyWarning: \n",
      "A value is trying to be set on a copy of a slice from a DataFrame.\n",
      "Try using .loc[row_indexer,col_indexer] = value instead\n",
      "\n",
      "See the caveats in the documentation: http://pandas.pydata.org/pandas-docs/stable/indexing.html#indexing-view-versus-copy\n"
     ]
    }
   ],
   "source": [
    "#risk == Good\n",
    "g = table['KARYOTYPE'].str.contains('t\\(8;21\\)') == True\n",
    "g2 = table['KARYOTYPE'].str.contains('t\\(15;17\\)') == True\n",
    "g3 = table['KARYOTYPE'].str.contains('inv\\(16\\)') == True\n",
    "\n",
    "#risk == poor\n",
    "p = table['KARYOTYPE'].str.contains('-5') == True\n",
    "p2 = table['KARYOTYPE'].str.contains('-7') == True\n",
    "p3 = table['KARYOTYPE'].str.contains('del\\(5q\\)') == True\n",
    "p4 = table['KARYOTYPE'].str.contains('COMPLEX') == True\n",
    "p5 = table['KARYOTYPE'].str.contains('Abnormal\\(3q\\)') == True\n",
    "\n",
    "#other == intermediate\n",
    "\n",
    "m = g|g2|g3 #good\n",
    "m3 = p|p2|p3|p4|p5 #poor\n",
    "m2 = -(m|m3) #intermediate\n",
    "\n",
    "good = table[m]\n",
    "poor = table[m3]\n",
    "intermediate = table[m2]\n",
    "\n",
    "good['risk'] = 'good'\n",
    "poor['risk'] = 'poor'\n",
    "intermediate['risk'] = 'intermediate'\n",
    "\n",
    "paired = pd.concat([good, intermediate, poor])\n",
    "paired = paired.reset_index()\n",
    "\n",
    "#data output\n",
    "eset = paired.loc[:,'TSPAN6':'RP11-114I8.4']\n",
    "pset = paired.loc[:, ['risk']]\n",
    "\n",
    "#nomalize\n",
    "eset2 = eset.apply(pd.to_numeric, errors='coerce')\n",
    "#eset2 = eset2.apply(lambda x: np.log2(x)) \n",
    "\n",
    "eset2.to_csv('./eset.csv')\n",
    "pset.to_csv('./pset.csv')\n",
    "\n",
    "m = pset['risk'] == 'good'\n",
    "m2 = pset['risk'] == 'intermediate'\n",
    "m3 = pset['risk'] == 'poor'\n",
    "\n",
    "tpd52_g = eset2[m]['TPD52']\n",
    "tpd52_i = eset2[m2]['TPD52']\n",
    "tpd52_p = eset2[m3]['TPD52']\n",
    "\n",
    "good = pd.DataFrame([tpd52_g]).T\n",
    "intermediate = pd.DataFrame([tpd52_i]).T\n",
    "poor = pd.DataFrame([tpd52_p]).T\n",
    "\n",
    "good.to_csv('./ohsu_g.csv', index=False)\n",
    "intermediate.to_csv('./ohsu_i.csv', index=False)\n",
    "poor.to_csv('./ohsu_p.csv', index=False)"
   ]
  },
  {
   "cell_type": "code",
   "execution_count": 6,
   "metadata": {},
   "outputs": [],
   "source": [
    "%%R\n",
    "\n",
    "good <- read.csv('./ohsu_g.csv')\n",
    "intermediate <- read.csv('./ohsu_i.csv')\n",
    "poor <- read.csv('./ohsu_p.csv')\n",
    "\n",
    "gnum = 46\n",
    "inum = 380\n",
    "pnum = 26\n",
    "\n",
    "data <- data.frame(\n",
    "  name=c( rep(\"good\",gnum), rep(\"intermediate\",inum), rep(\"poor\",pnum)),\n",
    "  \n",
    "    value=c( good[1:gnum,'TPD52'], intermediate[1:inum,'TPD52'], poor[1:pnum,'TPD52'])\n",
    ")\n",
    "\n",
    "write.csv(data, './OHSU.csv', row.names=FALSE)"
   ]
  },
  {
   "cell_type": "code",
   "execution_count": 11,
   "metadata": {},
   "outputs": [
    {
     "name": "stdout",
     "output_type": "stream",
     "text": [
      "p-value annotation legend:\n",
      "ns: 5.00e-02 < p <= 1.00e+00\n",
      "*: 1.00e-02 < p <= 5.00e-02\n",
      "**: 1.00e-03 < p <= 1.00e-02\n",
      "***: 1.00e-04 < p <= 1.00e-03\n",
      "****: p <= 1.00e-04\n",
      "\n",
      "good v.s. intermediate: t-test independent samples with Bonferroni correction, P_val=6.043e-06 stat=-4.819e+00\n",
      "intermediate v.s. poor: t-test independent samples with Bonferroni correction, P_val=5.868e-03 stat=-3.117e+00\n",
      "good v.s. poor: t-test independent samples with Bonferroni correction, P_val=3.696e-08 stat=-6.451e+00\n"
     ]
    },
    {
     "data": {
      "image/png": "[encoded data removed]",
      "text/plain": [
       "<Figure size 288x288 with 1 Axes>"
      ]
     },
     "metadata": {
      "needs_background": "light"
     },
     "output_type": "display_data"
    }
   ],
   "source": [
    "dfs = ['OHSU']\n",
    "for k in dfs:\n",
    "    table = pd.read_csv('./%s.csv' %k)\n",
    "    \n",
    "    g = table['name'] == 'good'\n",
    "    i = table['name'] == 'intermediate'\n",
    "    p = table['name'] == 'poor'\n",
    "    F_statistic, pVal = stats.f_oneway(table[g]['value'], table[i]['value'], table[p]['value']) \n",
    "    \n",
    "    tpd52 = []\n",
    "    \n",
    "    gene = [tpd52]\n",
    "    name = ['TPD52']\n",
    "\n",
    "    for i in range(0, len(gene)):\n",
    "        first = table['name'] == ('good')\n",
    "        second = table['name'] == ('intermediate')\n",
    "        third = table['name'] == ('poor')\n",
    "        gene[i] = table[first].append(table[second]).append(table[third])\n",
    "        \n",
    "    for i in range(0,len(gene)):\n",
    "        plt.subplots(figsize = (4, 4))\n",
    "\n",
    "        f1 = sns.boxplot(data=gene[i], x = gene[i]['name'], y = gene[i]['value'], color=\"0.8\")\n",
    "        #f1.set_ylim(0, max(max(smc2['value']),max(smc4['value']))+100)\n",
    "        f1.set_title('%s\\n ANOVA p-value = %.4f' %(k,pVal))\n",
    "        sns.stripplot(data=gene[i], x = gene[i]['name'], y = gene[i]['value'], jitter=True, alpha=0.5)\n",
    "        plt.xticks(rotation=90)\n",
    "        plt.xlabel('risk')\n",
    "        plt.ylabel('expression value')\n",
    "        \n",
    "        add_stat_annotation(f1, data=gene[i], x = gene[i]['name'], y = gene[i]['value'],\n",
    "                 box_pairs=[((\"good\"), (\"intermediate\")),\n",
    "                            ((\"good\"), (\"poor\")),\n",
    "                            ((\"intermediate\"), (\"poor\"))\n",
    "                             ],\n",
    "                 test='t-test_ind', text_format='star', loc='inside', verbose=2)\n",
    "\n",
    "        plt.savefig('./%s_%s.png' %(k, name[i]), dpi=300, bbox_inches='tight')"
   ]
  },
  {
   "cell_type": "markdown",
   "metadata": {},
   "source": [
    "---\n",
    "## GSE23312"
   ]
  },
  {
   "cell_type": "code",
   "execution_count": 12,
   "metadata": {},
   "outputs": [],
   "source": [
    "%%R\n",
    "\n",
    "gse <- getGEO(\"GSE23312\",GSEMatrix=TRUE)\n",
    "gse <- gse[[1]]\n",
    "\n",
    "#exp data\n",
    "eset <- exprs(gse)\n",
    "\n",
    "#probe id to gene symbol\n",
    "fset <- fData(gse)\n",
    "\n",
    "symbols <- fset[,\"CompositeSequence BioSequence Database Entry [Gene Symbol]\"] #ILMN_Gene, Gene Symbol\n",
    "rownames(eset) <- symbols\n",
    "\n",
    "pset <- phenoData(gse)\n",
    "\n",
    "#eset <- 2^(eset) #denomalizing\n",
    "\n",
    "eset_g = eset[,pset$'genotype' == 't(8;21)' | pset$'genotype' == 't(15;17)' | pset$'genotype' == 'inv(16)']\n",
    "eset_i = eset[,pset$'genotype' != '-5' & pset$'genotype' != '-7' & pset$'genotype' != 'del(5q)' & pset$'genotype' != 'Abnormal 3q' & pset$'genotype' != 'complex karyotype' & \n",
    "              pset$'genotype' != 't(8;21)' & pset$'genotype' != 't(15;17)' & pset$'genotype' != 'inv(16)']\n",
    "eset_p = eset[,pset$'genotype' == '-5' | pset$'genotype' == '-7' | pset$'genotype' == 'del(5q)' | pset$'genotype' == 'Abnormal 3q' | pset$'genotype' == 'complex karyotype']\n",
    "\n",
    "tpd52_g = eset_g[which(rownames(eset_g) == \"TPD52\")[1],]\n",
    "tpd52_i = eset_i[which(rownames(eset_i) == \"TPD52\")[1],]\n",
    "tpd52_p = eset_p[which(rownames(eset_p) == \"TPD52\")[1],]\n",
    "\n",
    "\n",
    "data <- data.frame(\n",
    "  name=c( rep(\"good\",12), rep(\"intermediate\",17), rep(\"poor\",5)),\n",
    "  value=c( tpd52_g, tpd52_i, tpd52_p)\n",
    ")\n",
    "\n",
    "write.csv(data, './GSE23312.csv', row.names=FALSE)"
   ]
  },
  {
   "cell_type": "code",
   "execution_count": 13,
   "metadata": {},
   "outputs": [
    {
     "name": "stdout",
     "output_type": "stream",
     "text": [
      "p-value annotation legend:\n",
      "ns: 5.00e-02 < p <= 1.00e+00\n",
      "*: 1.00e-02 < p <= 5.00e-02\n",
      "**: 1.00e-03 < p <= 1.00e-02\n",
      "***: 1.00e-04 < p <= 1.00e-03\n",
      "****: p <= 1.00e-04\n",
      "\n",
      "good v.s. intermediate: t-test independent samples with Bonferroni correction, P_val=3.251e-03 stat=-3.659e+00\n",
      "intermediate v.s. poor: t-test independent samples with Bonferroni correction, P_val=2.268e-01 stat=-1.874e+00\n",
      "good v.s. poor: t-test independent samples with Bonferroni correction, P_val=4.659e-05 stat=-6.251e+00\n"
     ]
    },
    {
     "data": {
      "image/png": "[encoded data removed]",
      "text/plain": [
       "<Figure size 288x288 with 1 Axes>"
      ]
     },
     "metadata": {
      "needs_background": "light"
     },
     "output_type": "display_data"
    }
   ],
   "source": [
    "dfs = ['GSE23312']\n",
    "for k in dfs:\n",
    "    table = pd.read_csv('./%s.csv' %k)\n",
    "    \n",
    "    g = table['name'] == 'good'\n",
    "    i = table['name'] == 'intermediate'\n",
    "    p = table['name'] == 'poor'\n",
    "    F_statistic, pVal = stats.f_oneway(table[g]['value'], table[i]['value'], table[p]['value']) \n",
    "    \n",
    "    tpd52 = []\n",
    "    \n",
    "    gene = [tpd52]\n",
    "    name = ['TPD52']\n",
    "\n",
    "    for i in range(0, len(gene)):\n",
    "        first = table['name'] == ('good')\n",
    "        second = table['name'] == ('intermediate')\n",
    "        third = table['name'] == ('poor')\n",
    "        gene[i] = table[first].append(table[second]).append(table[third])\n",
    "        \n",
    "    for i in range(0,len(gene)):\n",
    "        plt.subplots(figsize = (4, 4))\n",
    "\n",
    "        f1 = sns.boxplot(data=gene[i], x = gene[i]['name'], y = gene[i]['value'], color=\"0.8\")\n",
    "        #f1.set_ylim(0, max(max(smc2['value']),max(smc4['value']))+100)\n",
    "        f1.set_title('%s\\n ANOVA p-value = %.4f' %(k,pVal))\n",
    "        sns.stripplot(data=gene[i], x = gene[i]['name'], y = gene[i]['value'], jitter=True, alpha=0.5)\n",
    "        plt.xticks(rotation=90)\n",
    "        plt.xlabel('risk')\n",
    "        plt.ylabel('expression value')\n",
    "        \n",
    "        add_stat_annotation(f1, data=gene[i], x = gene[i]['name'], y = gene[i]['value'],\n",
    "                 box_pairs=[((\"good\"), (\"intermediate\")),\n",
    "                            ((\"good\"), (\"poor\")),\n",
    "                            ((\"intermediate\"), (\"poor\"))\n",
    "                             ],\n",
    "                 test='t-test_ind', text_format='star', loc='inside', verbose=2)\n",
    "\n",
    "        plt.savefig('./%s_%s.png' %(k, name[i]), dpi=300, bbox_inches='tight')"
   ]
  },
  {
   "cell_type": "markdown",
   "metadata": {},
   "source": [
    "---\n",
    "## GSE16432"
   ]
  },
  {
   "cell_type": "code",
   "execution_count": 14,
   "metadata": {},
   "outputs": [],
   "source": [
    "%%R\n",
    "\n",
    "gse <- getGEO(\"GSE16432\",GSEMatrix=TRUE)\n",
    "gse <- gse[[1]]\n",
    "\n",
    "#exp data\n",
    "eset <- exprs(gse)\n",
    "\n",
    "#probe id to gene symbol\n",
    "fset <- fData(gse)\n",
    "\n",
    "symbols <- fset[,\"CompositeSequence BioSequence Database Entry [Gene Symbol]\"] #ILMN_Gene, Gene Symbol\n",
    "rownames(eset) <- symbols\n",
    "\n",
    "pset <- phenoData(gse)\n",
    "\n",
    "#eset <- 2^(eset) #denomalizing\n",
    "\n",
    "eset_g = eset[,pset$'genotype' == 't(8;21)' | pset$'genotype' == 't(15;17)' | pset$'genotype' == 'inv(16)']\n",
    "eset_i = eset[,pset$'genotype' != '-5' & pset$'genotype' != '-7' & pset$'genotype' != 'del(5q)' & pset$'genotype' != 'Abnormal 3q' & pset$'genotype' != 'complex karyotype' & \n",
    "              pset$'genotype' != 't(8;21)' & pset$'genotype' != 't(15;17)' & pset$'genotype' != 'inv(16)']\n",
    "eset_p = eset[,pset$'genotype' == '-5' | pset$'genotype' == '-7' | pset$'genotype' == 'del(5q)' | pset$'genotype' == 'Abnormal 3q' | pset$'genotype' == 'complex karyotype']\n",
    "\n",
    "tpd52_g = eset_g[which(rownames(eset_g) == \"TPD52\")[1],]\n",
    "tpd52_i = eset_i[which(rownames(eset_i) == \"TPD52\")[1],]\n",
    "tpd52_p = eset_p[which(rownames(eset_p) == \"TPD52\")[1],]\n",
    "\n",
    "\n",
    "\n",
    "data <- data.frame(\n",
    "  name=c( rep(\"good\",14), rep(\"intermediate\",24), rep(\"poor\",7)),\n",
    "  value=c( tpd52_g, tpd52_i, tpd52_p)\n",
    ")\n",
    "\n",
    "write.csv(data, './GSE16432.csv', row.names=FALSE)"
   ]
  },
  {
   "cell_type": "code",
   "execution_count": 15,
   "metadata": {},
   "outputs": [
    {
     "name": "stdout",
     "output_type": "stream",
     "text": [
      "p-value annotation legend:\n",
      "ns: 5.00e-02 < p <= 1.00e+00\n",
      "*: 1.00e-02 < p <= 5.00e-02\n",
      "**: 1.00e-03 < p <= 1.00e-02\n",
      "***: 1.00e-04 < p <= 1.00e-03\n",
      "****: p <= 1.00e-04\n",
      "\n",
      "good v.s. intermediate: t-test independent samples with Bonferroni correction, P_val=7.124e-03 stat=-3.270e+00\n",
      "intermediate v.s. poor: t-test independent samples with Bonferroni correction, P_val=1.019e-01 stat=-2.226e+00\n",
      "good v.s. poor: t-test independent samples with Bonferroni correction, P_val=3.932e-05 stat=-5.823e+00\n"
     ]
    },
    {
     "data": {
      "image/png": "[encoded data removed]",
      "text/plain": [
       "<Figure size 288x288 with 1 Axes>"
      ]
     },
     "metadata": {
      "needs_background": "light"
     },
     "output_type": "display_data"
    }
   ],
   "source": [
    "dfs = ['GSE16432']\n",
    "for k in dfs:\n",
    "    table = pd.read_csv('./%s.csv' %k)\n",
    "    \n",
    "    g = table['name'] == 'good'\n",
    "    i = table['name'] == 'intermediate'\n",
    "    p = table['name'] == 'poor'\n",
    "    F_statistic, pVal = stats.f_oneway(table[g]['value'], table[i]['value'], table[p]['value']) \n",
    "    \n",
    "    tpd52 = []\n",
    "    \n",
    "    gene = [tpd52]\n",
    "    name = ['TPD52']\n",
    "\n",
    "    for i in range(0, len(gene)):\n",
    "        first = table['name'] == ('good')\n",
    "        second = table['name'] == ('intermediate')\n",
    "        third = table['name'] == ('poor')\n",
    "        gene[i] = table[first].append(table[second]).append(table[third])\n",
    "        \n",
    "    for i in range(0,len(gene)):\n",
    "        plt.subplots(figsize = (4, 4))\n",
    "\n",
    "        f1 = sns.boxplot(data=gene[i], x = gene[i]['name'], y = gene[i]['value'], color=\"0.8\")\n",
    "        #f1.set_ylim(0, max(max(smc2['value']),max(smc4['value']))+100)\n",
    "        f1.set_title('%s\\n ANOVA p-value = %.4f' %(k,pVal))\n",
    "        sns.stripplot(data=gene[i], x = gene[i]['name'], y = gene[i]['value'], jitter=True, alpha=0.5)\n",
    "        plt.xticks(rotation=90)\n",
    "        plt.xlabel('risk')\n",
    "        plt.ylabel('expression value')\n",
    "        \n",
    "        add_stat_annotation(f1, data=gene[i], x = gene[i]['name'], y = gene[i]['value'],\n",
    "                 box_pairs=[((\"good\"), (\"intermediate\")),\n",
    "                            ((\"good\"), (\"poor\")),\n",
    "                            ((\"intermediate\"), (\"poor\"))\n",
    "                             ],\n",
    "                 test='t-test_ind', text_format='star', loc='inside', verbose=2)\n",
    "\n",
    "        plt.savefig('./%s_%s.png' %(k, name[i]), dpi=300, bbox_inches='tight')"
   ]
  },
  {
   "cell_type": "markdown",
   "metadata": {},
   "source": [
    "---\n",
    "## GSE6891"
   ]
  },
  {
   "cell_type": "code",
   "execution_count": 16,
   "metadata": {},
   "outputs": [],
   "source": [
    "%%R\n",
    "gse <- getGEO(\"GSE6891\",GSEMatrix=TRUE)\n",
    "gse <- gse[[1]]\n",
    "\n",
    "#exp data\n",
    "eset <- exprs(gse)\n",
    "\n",
    "#probe id to gene symbol\n",
    "fset <- fData(gse)\n",
    "\n",
    "symbols <- fset[,\"Gene Symbol\"] #ILMN_Gene, Gene Symbol\n",
    "rownames(eset) <- symbols\n",
    "\n",
    "pset <- phenoData(gse)\n",
    "\n",
    "#eset <- 2^(eset) #denomalizing\n",
    "\n",
    "eset_g = eset[,pset$'risk' == 'cytogenetic good']\n",
    "eset_i = eset[,pset$'risk' == 'cytogenetic intermediate']\n",
    "eset_p = eset[,pset$'risk' == 'cytogenetic poor']\n",
    "\n",
    "tpd52_g = eset_g[which(rownames(eset_g) == \"TPD52\")[1],][1:97]\n",
    "tpd52_i = eset_i[which(rownames(eset_i) == \"TPD52\")[1],][1:261]\n",
    "tpd52_p = eset_p[which(rownames(eset_p) == \"TPD52\")[1],][1:93]\n",
    "\n",
    "data <- data.frame(\n",
    "  name=c( rep(\"good\",97), rep(\"intermediate\",261), rep(\"poor\",93)),\n",
    "  value=c( tpd52_g, tpd52_i, tpd52_p)\n",
    ")\n",
    "\n",
    "write.csv(data, './GSE6891.csv', row.names=FALSE)"
   ]
  },
  {
   "cell_type": "code",
   "execution_count": 17,
   "metadata": {},
   "outputs": [
    {
     "name": "stdout",
     "output_type": "stream",
     "text": [
      "p-value annotation legend:\n",
      "ns: 5.00e-02 < p <= 1.00e+00\n",
      "*: 1.00e-02 < p <= 5.00e-02\n",
      "**: 1.00e-03 < p <= 1.00e-02\n",
      "***: 1.00e-04 < p <= 1.00e-03\n",
      "****: p <= 1.00e-04\n",
      "\n",
      "good v.s. intermediate: t-test independent samples with Bonferroni correction, P_val=1.552e-08 stat=-5.989e+00\n",
      "intermediate v.s. poor: t-test independent samples with Bonferroni correction, P_val=6.223e-01 stat=-1.263e+00\n",
      "good v.s. poor: t-test independent samples with Bonferroni correction, P_val=1.658e-09 stat=-6.544e+00\n"
     ]
    },
    {
     "data": {
      "image/png": "[encoded data removed]",
      "text/plain": [
       "<Figure size 288x288 with 1 Axes>"
      ]
     },
     "metadata": {
      "needs_background": "light"
     },
     "output_type": "display_data"
    }
   ],
   "source": [
    "dfs = ['GSE6891']\n",
    "for k in dfs:\n",
    "    table = pd.read_csv('./%s.csv' %k)\n",
    "    \n",
    "    g = table['name'] == 'good'\n",
    "    i = table['name'] == 'intermediate'\n",
    "    p = table['name'] == 'poor'\n",
    "    F_statistic, pVal = stats.f_oneway(table[g]['value'], table[i]['value'], table[p]['value']) \n",
    "    \n",
    "    tpd52 = []\n",
    "    \n",
    "    gene = [tpd52]\n",
    "    name = ['TPD52']\n",
    "\n",
    "    for i in range(0, len(gene)):\n",
    "        first = table['name'] == ('good')\n",
    "        second = table['name'] == ('intermediate')\n",
    "        third = table['name'] == ('poor')\n",
    "        gene[i] = table[first].append(table[second]).append(table[third])\n",
    "        \n",
    "    for i in range(0,len(gene)):\n",
    "        plt.subplots(figsize = (4, 4))\n",
    "\n",
    "        f1 = sns.boxplot(data=gene[i], x = gene[i]['name'], y = gene[i]['value'], color=\"0.8\")\n",
    "        #f1.set_ylim(0, max(max(smc2['value']),max(smc4['value']))+100)\n",
    "        f1.set_title('%s\\n ANOVA p-value = %.4f' %(k,pVal))\n",
    "        sns.stripplot(data=gene[i], x = gene[i]['name'], y = gene[i]['value'], jitter=True, alpha=0.5)\n",
    "        plt.xticks(rotation=90)\n",
    "        plt.xlabel('risk')\n",
    "        plt.ylabel('expression value')\n",
    "        \n",
    "        add_stat_annotation(f1, data=gene[i], x = gene[i]['name'], y = gene[i]['value'],\n",
    "                 box_pairs=[((\"good\"), (\"intermediate\")),\n",
    "                            ((\"good\"), (\"poor\")),\n",
    "                            ((\"intermediate\"), (\"poor\"))\n",
    "                             ],\n",
    "                 test='t-test_ind', text_format='star', loc='inside', verbose=2)\n",
    "\n",
    "        plt.savefig('./%s_%s.png' %(k, name[i]), dpi=300, bbox_inches='tight')"
   ]
  },
  {
   "cell_type": "code",
   "execution_count": null,
   "metadata": {},
   "outputs": [],
   "source": []
  }
 ],
 "metadata": {
  "kernelspec": {
   "display_name": "Python 3",
   "language": "python",
   "name": "python3"
  },
  "language_info": {
   "codemirror_mode": {
    "name": "ipython",
    "version": 3
   },
   "file_extension": ".py",
   "mimetype": "text/x-python",
   "name": "python",
   "nbconvert_exporter": "python",
   "pygments_lexer": "ipython3",
   "version": "3.7.1"
  }
 },
 "nbformat": 4,
 "nbformat_minor": 2
}
